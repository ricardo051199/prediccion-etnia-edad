{
 "cells": [
  {
   "cell_type": "code",
   "execution_count": 1,
   "id": "7514cfc6",
   "metadata": {},
   "outputs": [],
   "source": [
    "import pandas as pd\n",
    "import numpy as np\n",
    "import tensorflow as tf\n",
    "from tensorflow.keras.models import Sequential\n",
    "from tensorflow.keras.layers import Conv2D, MaxPooling2D, Flatten, Dense, Dropout\n",
    "from sklearn.model_selection import train_test_split\n",
    "import matplotlib.pyplot as plt\n",
    "from tensorflow.keras.preprocessing import image\n",
    "from tensorflow.keras.models import load_model\n",
    "from sklearn.metrics import accuracy_score"
   ]
  },
  {
   "cell_type": "markdown",
   "id": "4a303751",
   "metadata": {},
   "source": [
    "# Entrenar"
   ]
  },
  {
   "cell_type": "code",
   "execution_count": 65,
   "id": "e0f72245",
   "metadata": {},
   "outputs": [],
   "source": [
    "data = pd.read_csv('age_gender.csv')"
   ]
  },
  {
   "cell_type": "code",
   "execution_count": 66,
   "id": "d8aeb394",
   "metadata": {},
   "outputs": [],
   "source": [
    "data['pixels'] = data['pixels'].apply(lambda x: np.array(x.split(), dtype='float32').reshape(48, 48))"
   ]
  },
  {
   "cell_type": "code",
   "execution_count": 67,
   "id": "aa081c25",
   "metadata": {},
   "outputs": [],
   "source": [
    "X = np.stack(data['pixels'].values) / 255.0\n",
    "X = X.reshape(-1, 48, 48, 1)"
   ]
  },
  {
   "cell_type": "code",
   "execution_count": 68,
   "id": "e5c187bb",
   "metadata": {},
   "outputs": [],
   "source": [
    "y = data['gender'].values"
   ]
  },
  {
   "cell_type": "code",
   "execution_count": 69,
   "id": "43f6dcc3",
   "metadata": {},
   "outputs": [],
   "source": [
    "X_train, X_test, y_train, y_test = train_test_split(X, y, test_size=0.2, random_state=42)"
   ]
  },
  {
   "cell_type": "code",
   "execution_count": 38,
   "id": "85cfc690",
   "metadata": {},
   "outputs": [
    {
     "name": "stderr",
     "output_type": "stream",
     "text": [
      "C:\\My programers\\Anaconda3\\lib\\site-packages\\keras\\src\\layers\\convolutional\\base_conv.py:107: UserWarning: Do not pass an `input_shape`/`input_dim` argument to a layer. When using Sequential models, prefer using an `Input(shape)` object as the first layer in the model instead.\n",
      "  super().__init__(activity_regularizer=activity_regularizer, **kwargs)\n"
     ]
    }
   ],
   "source": [
    "model = Sequential([\n",
    "    Conv2D(32, (3, 3), activation='relu', input_shape=(48, 48, 1)),\n",
    "    MaxPooling2D((2, 2)),\n",
    "    Dropout(0.25),\n",
    "    Conv2D(64, (3, 3), activation='relu'),\n",
    "    MaxPooling2D((2, 2)),\n",
    "    Dropout(0.25),\n",
    "    Flatten(),\n",
    "    Dense(128, activation='relu'),\n",
    "    Dropout(0.5),\n",
    "    Dense(y.shape[1], activation='softmax')\n",
    "])"
   ]
  },
  {
   "cell_type": "code",
   "execution_count": 50,
   "id": "c009623a",
   "metadata": {},
   "outputs": [],
   "source": [
    "model.compile(optimizer='adam', loss='categorical_crossentropy', metrics=['accuracy'])"
   ]
  },
  {
   "cell_type": "code",
   "execution_count": 72,
   "id": "451db7c2",
   "metadata": {},
   "outputs": [
    {
     "name": "stdout",
     "output_type": "stream",
     "text": [
      "Epoch 1/15\n",
      "\u001b[1m475/475\u001b[0m \u001b[32m━━━━━━━━━━━━━━━━━━━━\u001b[0m\u001b[37m\u001b[0m \u001b[1m19s\u001b[0m 37ms/step - loss: 484.7908 - mae: 16.8807 - val_loss: 251.0229 - val_mae: 12.3882\n",
      "Epoch 2/15\n",
      "\u001b[1m475/475\u001b[0m \u001b[32m━━━━━━━━━━━━━━━━━━━━\u001b[0m\u001b[37m\u001b[0m \u001b[1m17s\u001b[0m 36ms/step - loss: 272.9424 - mae: 12.6517 - val_loss: 235.3226 - val_mae: 11.3162\n",
      "Epoch 3/15\n",
      "\u001b[1m475/475\u001b[0m \u001b[32m━━━━━━━━━━━━━━━━━━━━\u001b[0m\u001b[37m\u001b[0m \u001b[1m17s\u001b[0m 37ms/step - loss: 246.9290 - mae: 11.9175 - val_loss: 223.3092 - val_mae: 10.9336\n",
      "Epoch 4/15\n",
      "\u001b[1m475/475\u001b[0m \u001b[32m━━━━━━━━━━━━━━━━━━━━\u001b[0m\u001b[37m\u001b[0m \u001b[1m18s\u001b[0m 37ms/step - loss: 235.7262 - mae: 11.6183 - val_loss: 187.9998 - val_mae: 10.1302\n",
      "Epoch 5/15\n",
      "\u001b[1m475/475\u001b[0m \u001b[32m━━━━━━━━━━━━━━━━━━━━\u001b[0m\u001b[37m\u001b[0m \u001b[1m18s\u001b[0m 37ms/step - loss: 210.6188 - mae: 10.9956 - val_loss: 187.4032 - val_mae: 9.9988\n",
      "Epoch 6/15\n",
      "\u001b[1m475/475\u001b[0m \u001b[32m━━━━━━━━━━━━━━━━━━━━\u001b[0m\u001b[37m\u001b[0m \u001b[1m18s\u001b[0m 37ms/step - loss: 200.6346 - mae: 10.6949 - val_loss: 186.8240 - val_mae: 10.0053\n",
      "Epoch 7/15\n",
      "\u001b[1m475/475\u001b[0m \u001b[32m━━━━━━━━━━━━━━━━━━━━\u001b[0m\u001b[37m\u001b[0m \u001b[1m18s\u001b[0m 37ms/step - loss: 187.6526 - mae: 10.3241 - val_loss: 161.6332 - val_mae: 9.2268\n",
      "Epoch 8/15\n",
      "\u001b[1m475/475\u001b[0m \u001b[32m━━━━━━━━━━━━━━━━━━━━\u001b[0m\u001b[37m\u001b[0m \u001b[1m18s\u001b[0m 37ms/step - loss: 176.6841 - mae: 9.9597 - val_loss: 145.3296 - val_mae: 8.7931\n",
      "Epoch 9/15\n",
      "\u001b[1m475/475\u001b[0m \u001b[32m━━━━━━━━━━━━━━━━━━━━\u001b[0m\u001b[37m\u001b[0m \u001b[1m21s\u001b[0m 38ms/step - loss: 165.5012 - mae: 9.6614 - val_loss: 145.6582 - val_mae: 8.6590\n",
      "Epoch 10/15\n",
      "\u001b[1m475/475\u001b[0m \u001b[32m━━━━━━━━━━━━━━━━━━━━\u001b[0m\u001b[37m\u001b[0m \u001b[1m19s\u001b[0m 41ms/step - loss: 155.2568 - mae: 9.3292 - val_loss: 124.7394 - val_mae: 8.1018\n",
      "Epoch 11/15\n",
      "\u001b[1m475/475\u001b[0m \u001b[32m━━━━━━━━━━━━━━━━━━━━\u001b[0m\u001b[37m\u001b[0m \u001b[1m18s\u001b[0m 38ms/step - loss: 149.2479 - mae: 9.1773 - val_loss: 202.5037 - val_mae: 10.5856\n",
      "Epoch 12/15\n",
      "\u001b[1m475/475\u001b[0m \u001b[32m━━━━━━━━━━━━━━━━━━━━\u001b[0m\u001b[37m\u001b[0m \u001b[1m18s\u001b[0m 38ms/step - loss: 149.8386 - mae: 9.1255 - val_loss: 127.8283 - val_mae: 8.0650\n",
      "Epoch 13/15\n",
      "\u001b[1m475/475\u001b[0m \u001b[32m━━━━━━━━━━━━━━━━━━━━\u001b[0m\u001b[37m\u001b[0m \u001b[1m18s\u001b[0m 38ms/step - loss: 141.9971 - mae: 8.8445 - val_loss: 142.2621 - val_mae: 8.5003\n",
      "Epoch 14/15\n",
      "\u001b[1m475/475\u001b[0m \u001b[32m━━━━━━━━━━━━━━━━━━━━\u001b[0m\u001b[37m\u001b[0m \u001b[1m18s\u001b[0m 38ms/step - loss: 139.8275 - mae: 8.8282 - val_loss: 109.8312 - val_mae: 7.5883\n",
      "Epoch 15/15\n",
      "\u001b[1m475/475\u001b[0m \u001b[32m━━━━━━━━━━━━━━━━━━━━\u001b[0m\u001b[37m\u001b[0m \u001b[1m19s\u001b[0m 40ms/step - loss: 136.9984 - mae: 8.7415 - val_loss: 129.7450 - val_mae: 8.0031\n"
     ]
    }
   ],
   "source": [
    "history = model.fit(X_train, y_train, epochs=15, batch_size=32, validation_split=0.2)"
   ]
  },
  {
   "cell_type": "code",
   "execution_count": 73,
   "id": "03598f24",
   "metadata": {},
   "outputs": [
    {
     "name": "stderr",
     "output_type": "stream",
     "text": [
      "WARNING:absl:You are saving your model as an HDF5 file via `model.save()` or `keras.saving.save_model(model)`. This file format is considered legacy. We recommend using instead the native Keras format, e.g. `model.save('my_model.keras')` or `keras.saving.save_model(model, 'my_model.keras')`. \n"
     ]
    }
   ],
   "source": [
    "model.save('gender_model.h5')"
   ]
  },
  {
   "cell_type": "markdown",
   "id": "49dbb6a6",
   "metadata": {},
   "source": [
    "# Evaluar"
   ]
  },
  {
   "cell_type": "code",
   "execution_count": null,
   "id": "94b573e2",
   "metadata": {},
   "outputs": [],
   "source": []
  },
  {
   "cell_type": "code",
   "execution_count": null,
   "id": "705758cc",
   "metadata": {},
   "outputs": [],
   "source": []
  },
  {
   "cell_type": "code",
   "execution_count": null,
   "id": "6713e369",
   "metadata": {},
   "outputs": [],
   "source": []
  },
  {
   "cell_type": "code",
   "execution_count": 42,
   "id": "30d317d4",
   "metadata": {},
   "outputs": [
    {
     "name": "stderr",
     "output_type": "stream",
     "text": [
      "WARNING:absl:Compiled the loaded model, but the compiled metrics have yet to be built. `model.compile_metrics` will be empty until you train or evaluate the model.\n"
     ]
    },
    {
     "name": "stdout",
     "output_type": "stream",
     "text": [
      "\u001b[1m741/741\u001b[0m \u001b[32m━━━━━━━━━━━━━━━━━━━━\u001b[0m\u001b[37m\u001b[0m \u001b[1m6s\u001b[0m 8ms/step\n",
      "Accuracy: 90.04%\n",
      "Correct Predictions: 42688/23705\n"
     ]
    }
   ],
   "source": [
    "\n",
    "\n",
    "# Convertir etiquetas 'gender' a formato one-hot\n",
    "y = pd.get_dummies(data['gender']).values\n",
    "\n",
    "# Cargar el modelo previamente guardado\n",
    "model = load_model(\"gender_model.h5\")\n",
    "\n",
    "# Realizar predicciones\n",
    "predictions = model.predict(X)\n",
    "\n",
    "# Si tu modelo devuelve probabilidades, convierte a clases\n",
    "predicted_classes = (predictions > 0.5).astype(int)\n",
    "\n",
    "# Calcular la precisión\n",
    "accuracy = accuracy_score(np.argmax(y, axis=1), np.argmax(predicted_classes, axis=1))\n",
    "print(f'Accuracy: {accuracy * 100:.2f}%')\n",
    "\n",
    "# Calcular cuántas predicciones fueron correctas\n",
    "correct_predictions = (predicted_classes == y).sum()\n",
    "print(f'Correct Predictions: {correct_predictions}/{len(y)}')\n"
   ]
  },
  {
   "cell_type": "code",
   "execution_count": 26,
   "id": "3d04516f",
   "metadata": {},
   "outputs": [
    {
     "name": "stdout",
     "output_type": "stream",
     "text": [
      "Accuracy: 90.04%\n",
      "Correct Predictions: 21344/23705\n"
     ]
    }
   ],
   "source": [
    "# Convertir las predicciones a clases (0 o 1)\n",
    "predicted_classes = np.argmax(predictions, axis=1)\n",
    "\n",
    "# Si las etiquetas 'y' están en formato one-hot, convierte también a clases (0 o 1)\n",
    "true_classes = np.argmax(y, axis=1)\n",
    "\n",
    "# Calcular la precisión\n",
    "accuracy = accuracy_score(true_classes, predicted_classes)\n",
    "print(f'Accuracy: {accuracy * 100:.2f}%')\n",
    "\n",
    "# Calcular cuántas predicciones fueron correctas\n",
    "correct_predictions = (predicted_classes == true_classes).sum()\n",
    "print(f'Correct Predictions: {correct_predictions}/{len(y)}')\n"
   ]
  },
  {
   "cell_type": "code",
   "execution_count": 27,
   "id": "496da8b2",
   "metadata": {},
   "outputs": [
    {
     "name": "stdout",
     "output_type": "stream",
     "text": [
      "Predicted classes shape: (23705,)\n",
      "True classes shape: (23705,)\n"
     ]
    }
   ],
   "source": [
    "print(f'Predicted classes shape: {predicted_classes.shape}')\n",
    "print(f'True classes shape: {true_classes.shape}')\n"
   ]
  },
  {
   "cell_type": "code",
   "execution_count": 32,
   "id": "ee28e4c3",
   "metadata": {},
   "outputs": [
    {
     "name": "stderr",
     "output_type": "stream",
     "text": [
      "WARNING:absl:Compiled the loaded model, but the compiled metrics have yet to be built. `model.compile_metrics` will be empty until you train or evaluate the model.\n"
     ]
    },
    {
     "name": "stdout",
     "output_type": "stream",
     "text": [
      "\u001b[1m1/1\u001b[0m \u001b[32m━━━━━━━━━━━━━━━━━━━━\u001b[0m\u001b[37m\u001b[0m \u001b[1m0s\u001b[0m 149ms/step\n"
     ]
    },
    {
     "data": {
      "image/png": "[encoded data removed]",
      "text/plain": [
       "<Figure size 640x480 with 1 Axes>"
      ]
     },
     "metadata": {},
     "output_type": "display_data"
    },
    {
     "name": "stdout",
     "output_type": "stream",
     "text": [
      "Real Gender: 0, Predicted Gender: Male\n"
     ]
    }
   ],
   "source": [
    "\n",
    "\n",
    "# Cargar el archivo CSV\n",
    "data = pd.read_csv(\"age_gender.csv\")\n",
    "\n",
    "# Cargar el modelo previamente guardado\n",
    "model = load_model(\"gender_model.h5\")\n",
    "\n",
    "# Seleccionar una fila aleatoria del CSV\n",
    "random_row = data.sample(1)\n",
    "\n",
    "# Obtener los píxeles de la imagen de la fila seleccionada\n",
    "pixels = random_row['pixels'].values[0]\n",
    "\n",
    "# Convertir la cadena de texto de los píxeles a una lista de enteros\n",
    "pixels = np.array([int(i) for i in pixels.split()])\n",
    "\n",
    "# Asegurarse de que los píxeles tengan forma (48, 48) (ajusta si es necesario)\n",
    "pixels = pixels.reshape(48, 48)  # Cambia esto si usaste otro tamaño\n",
    "\n",
    "# Preprocesar la imagen\n",
    "pixels = np.expand_dims(pixels, axis=0)  # Añadir dimensión para el batch\n",
    "pixels = np.expand_dims(pixels, axis=-1)  # Añadir dimensión para canal (grayscale)\n",
    "\n",
    "# Normalizar los valores a [0, 1]\n",
    "pixels = pixels / 255.0\n",
    "\n",
    "# Realizar predicción\n",
    "prediction = model.predict(pixels)\n",
    "predicted_class = np.argmax(prediction, axis=1)[0]  # Obtener la clase predicha (0 o 1)\n",
    "\n",
    "# Mapeo de clases a género\n",
    "gender_dict = {0: 'Male', 1: 'Female'}\n",
    "predicted_gender = gender_dict[predicted_class]\n",
    "\n",
    "# Mostrar la imagen y el resultado\n",
    "plt.imshow(pixels.reshape(48, 48), cmap='gray')  # Asegúrate de que el tamaño sea correcto\n",
    "plt.axis('off')  # Quitar los ejes\n",
    "plt.title(f\"Predicted: {predicted_gender}\")\n",
    "plt.show()\n",
    "\n",
    "# Mostrar el género real (si tienes esa información en el CSV)\n",
    "real_gender = random_row['gender'].values[0]\n",
    "print(f'Real Gender: {real_gender}, Predicted Gender: {predicted_gender}')\n"
   ]
  },
  {
   "cell_type": "code",
   "execution_count": null,
   "id": "55c5b525",
   "metadata": {},
   "outputs": [],
   "source": [
    "resultados = model.evaluate(X_test, y_test, verbose=2)\n",
    "print(f\"Pérdida (Loss): {resultados[0]}\")\n",
    "print(f\"Precisión (Accuracy): {resultados[1]}\")"
   ]
  },
  {
   "cell_type": "code",
   "execution_count": null,
   "id": "838c789e",
   "metadata": {},
   "outputs": [],
   "source": []
  }
 ],
 "metadata": {
  "kernelspec": {
   "display_name": "Python 3 (ipykernel)",
   "language": "python",
   "name": "python3"
  },
  "language_info": {
   "codemirror_mode": {
    "name": "ipython",
    "version": 3
   },
   "file_extension": ".py",
   "mimetype": "text/x-python",
   "name": "python",
   "nbconvert_exporter": "python",
   "pygments_lexer": "ipython3",
   "version": "3.9.13"
  }
 },
 "nbformat": 4,
 "nbformat_minor": 5
}
