{
 "cells": [
  {
   "cell_type": "code",
   "execution_count": 2,
   "id": "7514cfc6",
   "metadata": {},
   "outputs": [],
   "source": [
    "import pandas as pd\n",
    "import numpy as np\n",
    "import tensorflow as tf\n",
    "from tensorflow.keras.models import Sequential\n",
    "from tensorflow.keras.layers import Conv2D, MaxPooling2D, Flatten, Dense, Dropout\n",
    "from sklearn.model_selection import train_test_split\n",
    "import matplotlib.pyplot as plt\n",
    "from tensorflow.keras.preprocessing import image\n",
    "from tensorflow.keras.models import load_model\n",
    "from sklearn.metrics import accuracy_score"
   ]
  },
  {
   "cell_type": "markdown",
   "id": "d1e0acca",
   "metadata": {},
   "source": [
    "# Entrenar"
   ]
  },
  {
   "cell_type": "code",
   "execution_count": 5,
   "id": "e0f72245",
   "metadata": {},
   "outputs": [],
   "source": [
    "data = pd.read_csv('../age_gender.csv')"
   ]
  },
  {
   "cell_type": "code",
   "execution_count": 6,
   "id": "d8aeb394",
   "metadata": {},
   "outputs": [],
   "source": [
    "data['pixels'] = data['pixels'].apply(lambda x: np.array(x.split(), dtype='float32').reshape(48, 48))"
   ]
  },
  {
   "cell_type": "code",
   "execution_count": 7,
   "id": "aa081c25",
   "metadata": {},
   "outputs": [],
   "source": [
    "X = np.stack(data['pixels'].values) / 255.0\n",
    "X = X.reshape(-1, 48, 48, 1)"
   ]
  },
  {
   "cell_type": "code",
   "execution_count": 8,
   "id": "e5c187bb",
   "metadata": {},
   "outputs": [],
   "source": [
    "y = data['gender'].values"
   ]
  },
  {
   "cell_type": "code",
   "execution_count": 9,
   "id": "43f6dcc3",
   "metadata": {},
   "outputs": [],
   "source": [
    "X_train, X_test, y_train, y_test = train_test_split(X, y, test_size=0.2, random_state=42)"
   ]
  },
  {
   "cell_type": "code",
   "execution_count": 38,
   "id": "85cfc690",
   "metadata": {},
   "outputs": [
    {
     "name": "stderr",
     "output_type": "stream",
     "text": [
      "C:\\My programers\\Anaconda3\\lib\\site-packages\\keras\\src\\layers\\convolutional\\base_conv.py:107: UserWarning: Do not pass an `input_shape`/`input_dim` argument to a layer. When using Sequential models, prefer using an `Input(shape)` object as the first layer in the model instead.\n",
      "  super().__init__(activity_regularizer=activity_regularizer, **kwargs)\n"
     ]
    }
   ],
   "source": [
    "model = Sequential([\n",
    "    Conv2D(32, (3, 3), activation='relu', input_shape=(48, 48, 1)),\n",
    "    MaxPooling2D((2, 2)),\n",
    "    Dropout(0.25),\n",
    "    Conv2D(64, (3, 3), activation='relu'),\n",
    "    MaxPooling2D((2, 2)),\n",
    "    Dropout(0.25),\n",
    "    Flatten(),\n",
    "    Dense(128, activation='relu'),\n",
    "    Dropout(0.5),\n",
    "    Dense(y.shape[1], activation='softmax')\n",
    "])"
   ]
  },
  {
   "cell_type": "code",
   "execution_count": 50,
   "id": "c009623a",
   "metadata": {},
   "outputs": [],
   "source": [
    "model.compile(optimizer='adam', loss='categorical_crossentropy', metrics=['accuracy'])"
   ]
  },
  {
   "cell_type": "code",
   "execution_count": 72,
   "id": "451db7c2",
   "metadata": {},
   "outputs": [
    {
     "name": "stdout",
     "output_type": "stream",
     "text": [
      "Epoch 1/15\n",
      "\u001b[1m475/475\u001b[0m \u001b[32m━━━━━━━━━━━━━━━━━━━━\u001b[0m\u001b[37m\u001b[0m \u001b[1m19s\u001b[0m 37ms/step - loss: 484.7908 - mae: 16.8807 - val_loss: 251.0229 - val_mae: 12.3882\n",
      "Epoch 2/15\n",
      "\u001b[1m475/475\u001b[0m \u001b[32m━━━━━━━━━━━━━━━━━━━━\u001b[0m\u001b[37m\u001b[0m \u001b[1m17s\u001b[0m 36ms/step - loss: 272.9424 - mae: 12.6517 - val_loss: 235.3226 - val_mae: 11.3162\n",
      "Epoch 3/15\n",
      "\u001b[1m475/475\u001b[0m \u001b[32m━━━━━━━━━━━━━━━━━━━━\u001b[0m\u001b[37m\u001b[0m \u001b[1m17s\u001b[0m 37ms/step - loss: 246.9290 - mae: 11.9175 - val_loss: 223.3092 - val_mae: 10.9336\n",
      "Epoch 4/15\n",
      "\u001b[1m475/475\u001b[0m \u001b[32m━━━━━━━━━━━━━━━━━━━━\u001b[0m\u001b[37m\u001b[0m \u001b[1m18s\u001b[0m 37ms/step - loss: 235.7262 - mae: 11.6183 - val_loss: 187.9998 - val_mae: 10.1302\n",
      "Epoch 5/15\n",
      "\u001b[1m475/475\u001b[0m \u001b[32m━━━━━━━━━━━━━━━━━━━━\u001b[0m\u001b[37m\u001b[0m \u001b[1m18s\u001b[0m 37ms/step - loss: 210.6188 - mae: 10.9956 - val_loss: 187.4032 - val_mae: 9.9988\n",
      "Epoch 6/15\n",
      "\u001b[1m475/475\u001b[0m \u001b[32m━━━━━━━━━━━━━━━━━━━━\u001b[0m\u001b[37m\u001b[0m \u001b[1m18s\u001b[0m 37ms/step - loss: 200.6346 - mae: 10.6949 - val_loss: 186.8240 - val_mae: 10.0053\n",
      "Epoch 7/15\n",
      "\u001b[1m475/475\u001b[0m \u001b[32m━━━━━━━━━━━━━━━━━━━━\u001b[0m\u001b[37m\u001b[0m \u001b[1m18s\u001b[0m 37ms/step - loss: 187.6526 - mae: 10.3241 - val_loss: 161.6332 - val_mae: 9.2268\n",
      "Epoch 8/15\n",
      "\u001b[1m475/475\u001b[0m \u001b[32m━━━━━━━━━━━━━━━━━━━━\u001b[0m\u001b[37m\u001b[0m \u001b[1m18s\u001b[0m 37ms/step - loss: 176.6841 - mae: 9.9597 - val_loss: 145.3296 - val_mae: 8.7931\n",
      "Epoch 9/15\n",
      "\u001b[1m475/475\u001b[0m \u001b[32m━━━━━━━━━━━━━━━━━━━━\u001b[0m\u001b[37m\u001b[0m \u001b[1m21s\u001b[0m 38ms/step - loss: 165.5012 - mae: 9.6614 - val_loss: 145.6582 - val_mae: 8.6590\n",
      "Epoch 10/15\n",
      "\u001b[1m475/475\u001b[0m \u001b[32m━━━━━━━━━━━━━━━━━━━━\u001b[0m\u001b[37m\u001b[0m \u001b[1m19s\u001b[0m 41ms/step - loss: 155.2568 - mae: 9.3292 - val_loss: 124.7394 - val_mae: 8.1018\n",
      "Epoch 11/15\n",
      "\u001b[1m475/475\u001b[0m \u001b[32m━━━━━━━━━━━━━━━━━━━━\u001b[0m\u001b[37m\u001b[0m \u001b[1m18s\u001b[0m 38ms/step - loss: 149.2479 - mae: 9.1773 - val_loss: 202.5037 - val_mae: 10.5856\n",
      "Epoch 12/15\n",
      "\u001b[1m475/475\u001b[0m \u001b[32m━━━━━━━━━━━━━━━━━━━━\u001b[0m\u001b[37m\u001b[0m \u001b[1m18s\u001b[0m 38ms/step - loss: 149.8386 - mae: 9.1255 - val_loss: 127.8283 - val_mae: 8.0650\n",
      "Epoch 13/15\n",
      "\u001b[1m475/475\u001b[0m \u001b[32m━━━━━━━━━━━━━━━━━━━━\u001b[0m\u001b[37m\u001b[0m \u001b[1m18s\u001b[0m 38ms/step - loss: 141.9971 - mae: 8.8445 - val_loss: 142.2621 - val_mae: 8.5003\n",
      "Epoch 14/15\n",
      "\u001b[1m475/475\u001b[0m \u001b[32m━━━━━━━━━━━━━━━━━━━━\u001b[0m\u001b[37m\u001b[0m \u001b[1m18s\u001b[0m 38ms/step - loss: 139.8275 - mae: 8.8282 - val_loss: 109.8312 - val_mae: 7.5883\n",
      "Epoch 15/15\n",
      "\u001b[1m475/475\u001b[0m \u001b[32m━━━━━━━━━━━━━━━━━━━━\u001b[0m\u001b[37m\u001b[0m \u001b[1m19s\u001b[0m 40ms/step - loss: 136.9984 - mae: 8.7415 - val_loss: 129.7450 - val_mae: 8.0031\n"
     ]
    }
   ],
   "source": [
    "history = model.fit(X_train, y_train, epochs=15, batch_size=32, validation_split=0.2)"
   ]
  },
  {
   "cell_type": "code",
   "execution_count": 73,
   "id": "03598f24",
   "metadata": {},
   "outputs": [
    {
     "name": "stderr",
     "output_type": "stream",
     "text": [
      "WARNING:absl:You are saving your model as an HDF5 file via `model.save()` or `keras.saving.save_model(model)`. This file format is considered legacy. We recommend using instead the native Keras format, e.g. `model.save('my_model.keras')` or `keras.saving.save_model(model, 'my_model.keras')`. \n"
     ]
    }
   ],
   "source": [
    "model.save('gender_model.h5')"
   ]
  },
  {
   "cell_type": "markdown",
   "id": "d6409345",
   "metadata": {},
   "source": [
    "# Evaluar"
   ]
  },
  {
   "cell_type": "code",
   "execution_count": 24,
   "id": "c2cb83e3",
   "metadata": {},
   "outputs": [
    {
     "name": "stderr",
     "output_type": "stream",
     "text": [
      "WARNING:absl:Compiled the loaded model, but the compiled metrics have yet to be built. `model.compile_metrics` will be empty until you train or evaluate the model.\n"
     ]
    }
   ],
   "source": [
    "model = load_model(\"../modelos/gender_model.h5\")"
   ]
  },
  {
   "cell_type": "code",
   "execution_count": 14,
   "id": "43328624",
   "metadata": {},
   "outputs": [],
   "source": [
    "predicted_classes = np.argmax(predictions, axis=1)\n",
    "true_classes = np.argmax(y, axis=1)\n",
    "accuracy = accuracy_score(true_classes, predicted_classes)\n",
    "correct_predictions = (predicted_classes == true_classes).sum()"
   ]
  },
  {
   "cell_type": "code",
   "execution_count": 26,
   "id": "3d04516f",
   "metadata": {},
   "outputs": [
    {
     "name": "stdout",
     "output_type": "stream",
     "text": [
      "Accuracy: 90.04%\n",
      "Correct Predictions: 21344/23705\n"
     ]
    }
   ],
   "source": [
    "print(f'Accuracy: {accuracy * 100:.2f}%')\n",
    "print(f'Correct Predictions: {correct_predictions}/{len(y)}')"
   ]
  },
  {
   "cell_type": "code",
   "execution_count": 15,
   "id": "b0b75656",
   "metadata": {},
   "outputs": [],
   "source": [
    "def predecir(imagen):\n",
    "    pixels = imagen['pixels'].values[0]\n",
    "    if isinstance(pixels, str):\n",
    "        pixels = np.array([int(i) for i in pixels.split()])\n",
    "    elif isinstance(pixels, np.ndarray):\n",
    "        pixels = pixels.astype(int)\n",
    "    pixels = pixels.reshape(48, 48)\n",
    "    pixels = np.expand_dims(pixels, axis=(0, -1)) / 255.0\n",
    "    return model.predict(pixels)[0][0]"
   ]
  },
  {
   "cell_type": "code",
   "execution_count": 16,
   "id": "08196fdc",
   "metadata": {},
   "outputs": [],
   "source": [
    "gender_dict = {0: 'Male', 1: 'Female'}"
   ]
  },
  {
   "cell_type": "code",
   "execution_count": 27,
   "id": "ee28e4c3",
   "metadata": {},
   "outputs": [
    {
     "name": "stdout",
     "output_type": "stream",
     "text": [
      "\u001b[1m1/1\u001b[0m \u001b[32m━━━━━━━━━━━━━━━━━━━━\u001b[0m\u001b[37m\u001b[0m \u001b[1m0s\u001b[0m 122ms/step\n",
      "Real Gender: Female, Predicted Gender: Female\n"
     ]
    }
   ],
   "source": [
    "random_row = data.sample(1)\n",
    "prediction = predecir(random_row)\n",
    "predicted_class = int(prediction > 0.5)\n",
    "\n",
    "predicted_gender = gender_dict[predicted_class]\n",
    "real_gender = random_row['gender'].values[0]\n",
    "print(f'Real Gender: {gender_dict[real_gender]}, Predicted Gender: {predicted_gender}')\n"
   ]
  },
  {
   "cell_type": "code",
   "execution_count": 28,
   "id": "55c5b525",
   "metadata": {},
   "outputs": [
    {
     "name": "stdout",
     "output_type": "stream",
     "text": [
      "\u001b[1m1/1\u001b[0m \u001b[32m━━━━━━━━━━━━━━━━━━━━\u001b[0m\u001b[37m\u001b[0m \u001b[1m0s\u001b[0m 23ms/step\n",
      "Real Gender: Male, Predicted Gender: Male\n"
     ]
    }
   ],
   "source": [
    "random_row = data.sample(1)\n",
    "prediction = predecir(random_row)\n",
    "predicted_class = int(prediction > 0.5)\n",
    "\n",
    "predicted_gender = gender_dict[predicted_class]\n",
    "real_gender = random_row['gender'].values[0]\n",
    "print(f'Real Gender: {gender_dict[real_gender]}, Predicted Gender: {predicted_gender}')\n"
   ]
  },
  {
   "cell_type": "code",
   "execution_count": null,
   "id": "838c789e",
   "metadata": {},
   "outputs": [],
   "source": []
  }
 ],
 "metadata": {
  "kernelspec": {
   "display_name": "Python 3 (ipykernel)",
   "language": "python",
   "name": "python3"
  },
  "language_info": {
   "codemirror_mode": {
    "name": "ipython",
    "version": 3
   },
   "file_extension": ".py",
   "mimetype": "text/x-python",
   "name": "python",
   "nbconvert_exporter": "python",
   "pygments_lexer": "ipython3",
   "version": "3.9.13"
  }
 },
 "nbformat": 4,
 "nbformat_minor": 5
}
